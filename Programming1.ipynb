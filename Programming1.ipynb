{
 "cells": [
  {
   "cell_type": "code",
   "execution_count": 3,
   "id": "9f1ba58d-60c2-439c-8415-7bb2015d24bf",
   "metadata": {},
   "outputs": [
    {
     "name": "stdout",
     "output_type": "stream",
     "text": [
      "Hello Python\n"
     ]
    }
   ],
   "source": [
    "#1.\tWrite a Python program to print \"Hello Python\"?\n",
    "print(\"Hello Python\")"
   ]
  },
  {
   "cell_type": "code",
   "execution_count": 4,
   "id": "f96bdda3-1a4d-4b04-9837-e5b05c3d5a12",
   "metadata": {},
   "outputs": [
    {
     "name": "stdout",
     "output_type": "stream",
     "text": [
      "0.5\n",
      "30\n"
     ]
    }
   ],
   "source": [
    "#2.\tWrite a Python program to do arithmetical operations addition and division.?\n",
    "x=10\n",
    "y=20\n",
    "print(x/y)\n",
    "print(x+y)"
   ]
  },
  {
   "cell_type": "code",
   "execution_count": 6,
   "id": "940866dc-a84b-43e2-b0b4-2d7841a0cf99",
   "metadata": {},
   "outputs": [
    {
     "name": "stdout",
     "output_type": "stream",
     "text": [
      "The area of a triangle is 2.9047375096555625\n"
     ]
    }
   ],
   "source": [
    "#3.\tWrite a Python program to find the area of a triangle?\n",
    "a=2\n",
    "b=3\n",
    "c=4\n",
    "s=(a+b+c)/2\n",
    "Area=(s*(s-a)*(s-b)*(s-c))**0.5\n",
    "print(\"The area of a triangle is\", Area)\n"
   ]
  },
  {
   "cell_type": "code",
   "execution_count": 10,
   "id": "e31aa51a-e3dd-40d7-85fd-29ad67b80565",
   "metadata": {},
   "outputs": [
    {
     "name": "stdout",
     "output_type": "stream",
     "text": [
      "The value of a is 10\n",
      "The value of b is 20\n",
      "The value of a is 20\n",
      "The value of b is 10\n"
     ]
    }
   ],
   "source": [
    "#4.\tWrite a Python program to swap two variables?\n",
    "a=10\n",
    "b=20\n",
    "#Before swapping \n",
    "print(\"The value of a is\", a)\n",
    "print(\"The value of b is\", b)\n",
    "x=a\n",
    "a=b\n",
    "b=x\n",
    "#After swapping \n",
    "print(\"The value of a is\", a)\n",
    "print(\"The value of b is\", b)\n"
   ]
  },
  {
   "cell_type": "code",
   "execution_count": 11,
   "id": "49e435cd-0867-4c96-b4bd-b1ce8582850f",
   "metadata": {},
   "outputs": [
    {
     "name": "stdout",
     "output_type": "stream",
     "text": [
      "88\n"
     ]
    }
   ],
   "source": [
    "#5.\tWrite a Python program to generate a random number?\n",
    "import random\n",
    "\n",
    "print(random.randint(0,100))\n"
   ]
  },
  {
   "cell_type": "code",
   "execution_count": null,
   "id": "c248942a-8c2b-45bc-aa36-26c94d440893",
   "metadata": {},
   "outputs": [],
   "source": []
  }
 ],
 "metadata": {
  "kernelspec": {
   "display_name": "Python 3 (ipykernel)",
   "language": "python",
   "name": "python3"
  },
  "language_info": {
   "codemirror_mode": {
    "name": "ipython",
    "version": 3
   },
   "file_extension": ".py",
   "mimetype": "text/x-python",
   "name": "python",
   "nbconvert_exporter": "python",
   "pygments_lexer": "ipython3",
   "version": "3.10.6"
  }
 },
 "nbformat": 4,
 "nbformat_minor": 5
}
