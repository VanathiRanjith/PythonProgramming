{
 "cells": [
  {
   "cell_type": "code",
   "execution_count": 1,
   "id": "d130333f-b010-4f72-9738-99d7d4b2d44b",
   "metadata": {},
   "outputs": [
    {
     "name": "stdout",
     "output_type": "stream",
     "text": [
      "\n",
      "Is 25 is Disarium number? False\n",
      "\n",
      "Is 89 is Disarium number? True\n",
      "\n",
      "Is 75 is Disarium number? False\n",
      "\n",
      "Is 125 is Disarium number? False\n",
      "\n",
      "Is 518 is Disarium number? True\n"
     ]
    }
   ],
   "source": [
    "#1.\tWrite a Python program to check if the given number is a Disarium Number?\n",
    "\n",
    "def is_disarium(num):\n",
    "    temp = 0\n",
    "    for i in range(len(str(num))):\n",
    "        temp += int(str(num)[i]) ** (i + 1)\n",
    "    return temp == num\n",
    "\n",
    "num = 25\n",
    "print(\"\\nIs\",num,\"is Disarium number?\",is_disarium(num))\n",
    "num = 89\n",
    "print(\"\\nIs\",num,\"is Disarium number?\",is_disarium(num))\n",
    "num = 75\n",
    "print(\"\\nIs\",num,\"is Disarium number?\",is_disarium(num))\n",
    "num = 125\n",
    "print(\"\\nIs\",num,\"is Disarium number?\",is_disarium(num)) \n",
    "num = 518\n",
    "print(\"\\nIs\",num,\"is Disarium number?\",is_disarium(num))\n"
   ]
  },
  {
   "cell_type": "code",
   "execution_count": null,
   "id": "812161d3-4d67-4373-9738-7049f20e9a9b",
   "metadata": {},
   "outputs": [],
   "source": []
  },
  {
   "cell_type": "code",
   "execution_count": 17,
   "id": "a2166553-84e6-4a26-b089-b871427b8af6",
   "metadata": {},
   "outputs": [
    {
     "name": "stdin",
     "output_type": "stream",
     "text": [
      "Enter the Minimum Disarium Number =  1\n",
      "Enter the Maximum Disarium Number =  100\n"
     ]
    },
    {
     "name": "stdout",
     "output_type": "stream",
     "text": [
      "\n",
      "The List of Disarium Numbers from 1 and 100\n",
      "1   2   3   4   5   6   7   8   9   89   "
     ]
    }
   ],
   "source": [
    "#2.\tWrite a Python program to print all disarium numbers between 1 to 100?\n",
    "\n",
    "import math\n",
    "\n",
    "def digitsCount(Number):\n",
    "    length = 0\n",
    "    while Number != 0:\n",
    "        length = length + 1\n",
    "        Number = Number // 10\n",
    "    return length\n",
    "\n",
    "def digitsSum(Number):\n",
    "    Sum = 0\n",
    "    rem = 0\n",
    "    length = digitsCount(Number)\n",
    "    while Number > 0:\n",
    "        rem = Number % 10\n",
    "        Sum = Sum + math.pow(rem, length)\n",
    "        Number = Number // 10\n",
    "        length = length - 1\n",
    "    return Sum\n",
    "\n",
    "\n",
    "minDis = int(input(\"Enter the Minimum Disarium Number = \"))\n",
    "maxDis = int(input(\"Enter the Maximum Disarium Number = \"))\n",
    "\n",
    "print(\"\\nThe List of Disarium Numbers from {0} and {1}\".format(minDis, maxDis)) \n",
    "for i in range(minDis, maxDis):\n",
    "    Sum = digitsSum(i)\n",
    "\n",
    "    if Sum == i:\n",
    "        print(i, end = \"   \")"
   ]
  },
  {
   "cell_type": "code",
   "execution_count": 18,
   "id": "2a262ff0-3329-4354-aa74-683e0a71d490",
   "metadata": {},
   "outputs": [
    {
     "name": "stdout",
     "output_type": "stream",
     "text": [
      "True\n",
      "True\n",
      "False\n"
     ]
    }
   ],
   "source": [
    "#3.\tWrite a Python program to check if the given number is Happy Number?\n",
    "def is_Happy_num(n):\n",
    "  past = set()\n",
    "  while n != 1:\n",
    "        n = sum(int(i)**2 for i in str(n))\n",
    "        if n in past:\n",
    "            return False\n",
    "        past.add(n)\n",
    "  return True\n",
    "print(is_Happy_num(7))\n",
    "print(is_Happy_num(932))\n",
    "print(is_Happy_num(6))"
   ]
  },
  {
   "cell_type": "code",
   "execution_count": 22,
   "id": "50278389-e576-4bb6-b818-6e6abfd7c1a6",
   "metadata": {},
   "outputs": [
    {
     "name": "stdout",
     "output_type": "stream",
     "text": [
      "1   7   10   13   19   23   28   31   32   44   49   68   70   79   82   86   91   94   97   "
     ]
    }
   ],
   "source": [
    "#4.\tWrite a Python program to print all happy numbers between 1 and 100?\n",
    "def is_Happy_num(n):\n",
    "  past = set()\n",
    "  while n != 1:\n",
    "        n = sum(int(i)**2 for i in str(n))\n",
    "        if n in past:\n",
    "            return False\n",
    "        past.add(n)\n",
    "  return True\n",
    "\n",
    "for i in range(1, 100):\n",
    "    Sum = is_Happy_num(i)\n",
    "\n",
    "    if Sum == 1:\n",
    "        print(i, end = \"   \")"
   ]
  },
  {
   "cell_type": "code",
   "execution_count": 23,
   "id": "c18b3abb-18fe-4f30-9bdc-6bd8d211e458",
   "metadata": {},
   "outputs": [
    {
     "name": "stdin",
     "output_type": "stream",
     "text": [
      "Enter number:  67\n"
     ]
    },
    {
     "name": "stdout",
     "output_type": "stream",
     "text": [
      "67 is Not Harshad Number\n"
     ]
    }
   ],
   "source": [
    "#5.\tWrite a Python program to determine whether the given number is a Harshad Number?\n",
    "\n",
    "number = int(input('Enter number: '))\n",
    "\n",
    "# Making copy of number for later use\n",
    "copy = number\n",
    "\n",
    "# Finding sum of digit\n",
    "digit_sum = 0\n",
    "\n",
    "while number:\n",
    "    digit_sum += number%10\n",
    "    number //= 10\n",
    "\n",
    "# Checking divisibility & making decision\n",
    "if copy%digit_sum == 0:\n",
    "    print('%d is Harshad Number' % (copy))\n",
    "else:\n",
    "    print('%d is Not Harshad Number' % (copy))"
   ]
  },
  {
   "cell_type": "code",
   "execution_count": 24,
   "id": "26c66f7b-b3a7-45ad-be09-bca5fb6cc89e",
   "metadata": {},
   "outputs": [
    {
     "name": "stdout",
     "output_type": "stream",
     "text": [
      "Pronic numbers between 1 and 100: \n",
      "2\n",
      " \n",
      "6\n",
      " \n",
      "12\n",
      " \n",
      "20\n",
      " \n",
      "30\n",
      " \n",
      "42\n",
      " \n",
      "56\n",
      " \n",
      "72\n",
      " \n",
      "90\n",
      " \n"
     ]
    }
   ],
   "source": [
    "#6.\tWrite a Python program to print all pronic numbers between 1 and 100?\n",
    "def isPronicNumber(num):    \n",
    "    flag = False;    \n",
    "        \n",
    "    for j in range(1, num+1):    \n",
    "        #Checks for pronic number by multiplying consecutive numbers    \n",
    "        if((j*(j+1)) == num):    \n",
    "            flag = True;    \n",
    "            break;    \n",
    "    return flag;    \n",
    "     \n",
    "#Displays pronic numbers between 1 and 100    \n",
    "print(\"Pronic numbers between 1 and 100: \");    \n",
    "for i in range(1, 101):    \n",
    "    if(isPronicNumber(i)):    \n",
    "        print(i),    \n",
    "        print(\" \"),"
   ]
  },
  {
   "cell_type": "code",
   "execution_count": null,
   "id": "6ba4c4e5-95df-4d53-95b2-f9dfc80d889a",
   "metadata": {},
   "outputs": [],
   "source": []
  }
 ],
 "metadata": {
  "kernelspec": {
   "display_name": "Python 3 (ipykernel)",
   "language": "python",
   "name": "python3"
  },
  "language_info": {
   "codemirror_mode": {
    "name": "ipython",
    "version": 3
   },
   "file_extension": ".py",
   "mimetype": "text/x-python",
   "name": "python",
   "nbconvert_exporter": "python",
   "pygments_lexer": "ipython3",
   "version": "3.10.6"
  }
 },
 "nbformat": 4,
 "nbformat_minor": 5
}
